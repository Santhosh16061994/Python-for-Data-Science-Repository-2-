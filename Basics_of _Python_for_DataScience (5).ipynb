{
  "cells": [
    {
      "cell_type": "code",
      "execution_count": 5,
      "metadata": {
        "colab": {
          "base_uri": "https://localhost:8080/"
        },
        "id": "x8ndCny-7fyW",
        "outputId": "b7ebe26b-2d2e-48b0-9722-cb863b8e0ca9"
      },
      "outputs": [
        {
          "name": "stdout",
          "output_type": "stream",
          "text": [
            "sum= 30\n"
          ]
        }
      ],
      "source": [
        "num1= 20\n",
        "num2= 10\n",
        "\n",
        "sum = num1+num2\n",
        "print('sum=',sum)"
      ]
    },
    {
      "cell_type": "code",
      "execution_count": 7,
      "metadata": {
        "colab": {
          "base_uri": "https://localhost:8080/"
        },
        "id": "fxVuEGcm7qic",
        "outputId": "6bf3a72c-b6ce-4dc0-ed33-505b23014f6d"
      },
      "outputs": [
        {
          "name": "stdout",
          "output_type": "stream",
          "text": [
            "difference= 10\n"
          ]
        }
      ],
      "source": [
        "num1= 20\n",
        "num2= 10\n",
        "\n",
        "dif =  num1-num2\n",
        "print('difference=',dif )"
      ]
    },
    {
      "cell_type": "code",
      "execution_count": 9,
      "metadata": {
        "colab": {
          "base_uri": "https://localhost:8080/"
        },
        "id": "SsXVq46t8VyR",
        "outputId": "b1d78a89-50e6-4f0e-de97-3c8bbc1cbe59"
      },
      "outputs": [
        {
          "name": "stdout",
          "output_type": "stream",
          "text": [
            "product= 200\n"
          ]
        }
      ],
      "source": [
        "num1= 20\n",
        "num2= 10\n",
        "\n",
        "prod = num1*num2\n",
        "print('product=',prod)"
      ]
    },
    {
      "cell_type": "code",
      "execution_count": 10,
      "metadata": {
        "colab": {
          "base_uri": "https://localhost:8080/"
        },
        "id": "qW38KU_M8rG2",
        "outputId": "60da813f-e95f-40b5-86b9-26e5c3b8e977"
      },
      "outputs": [
        {
          "name": "stdout",
          "output_type": "stream",
          "text": [
            "quotient= 2.0\n"
          ]
        }
      ],
      "source": [
        "num1= 20\n",
        "num2= 10\n",
        "\n",
        "quo = num1/num2\n",
        "print('quotient=', quo)"
      ]
    },
    {
      "cell_type": "code",
      "execution_count": 11,
      "metadata": {
        "colab": {
          "base_uri": "https://localhost:8080/"
        },
        "id": "a7RYFb4E8_Vg",
        "outputId": "f81f1546-4156-4c06-ed4b-391518fd544e"
      },
      "outputs": [
        {
          "name": "stdout",
          "output_type": "stream",
          "text": [
            "exponene= 10240000000000\n"
          ]
        }
      ],
      "source": [
        "#exponent\n",
        "\n",
        "exp = num1**num2 #20^10\n",
        "print('exponene=',exp)"
      ]
    },
    {
      "cell_type": "code",
      "execution_count": 12,
      "metadata": {
        "colab": {
          "base_uri": "https://localhost:8080/"
        },
        "id": "jJ3xAHhQ9m6A",
        "outputId": "3cf31ca4-aaef-43a4-86d6-0b986151e8b7"
      },
      "outputs": [
        {
          "name": "stdout",
          "output_type": "stream",
          "text": [
            "reminder= 0\n"
          ]
        }
      ],
      "source": [
        "# modulus\n",
        "mod= num1%num2\n",
        "print('reminder=' , mod)"
      ]
    },
    {
      "cell_type": "code",
      "execution_count": 13,
      "metadata": {
        "colab": {
          "base_uri": "https://localhost:8080/"
        },
        "id": "oqC8yLsR9xiW",
        "outputId": "12ca606a-3a42-463b-b751-5c91040623e3"
      },
      "outputs": [
        {
          "data": {
            "text/plain": [
              "5"
            ]
          },
          "execution_count": 13,
          "metadata": {},
          "output_type": "execute_result"
        }
      ],
      "source": [
        "a= 5\n",
        "a"
      ]
    },
    {
      "cell_type": "code",
      "execution_count": 15,
      "metadata": {
        "colab": {
          "base_uri": "https://localhost:8080/"
        },
        "id": "ZCr0VDFK9xfG",
        "outputId": "0b9d4d6e-e592-40eb-ccbd-487caa222e41"
      },
      "outputs": [
        {
          "data": {
            "text/plain": [
              "13"
            ]
          },
          "execution_count": 15,
          "metadata": {},
          "output_type": "execute_result"
        }
      ],
      "source": [
        "a= 5\n",
        "a += 8 # we ttelling add 8 to the a\n",
        "a"
      ]
    },
    {
      "cell_type": "code",
      "execution_count": 16,
      "metadata": {
        "colab": {
          "base_uri": "https://localhost:8080/"
        },
        "id": "8x5R6aef9xcq",
        "outputId": "8b861b9e-c670-4a58-c41d-5ed6383da63b"
      },
      "outputs": [
        {
          "data": {
            "text/plain": [
              "3"
            ]
          },
          "execution_count": 16,
          "metadata": {},
          "output_type": "execute_result"
        }
      ],
      "source": [
        "b=5\n",
        "b-=2\n",
        "b"
      ]
    },
    {
      "cell_type": "code",
      "execution_count": 21,
      "metadata": {
        "colab": {
          "base_uri": "https://localhost:8080/"
        },
        "id": "UwjuBkGz9xad",
        "outputId": "713e6ed5-f050-4f79-8dc7-583765330fc0"
      },
      "outputs": [
        {
          "name": "stdout",
          "output_type": "stream",
          "text": [
            "False\n",
            "True\n",
            "True\n",
            "False\n",
            "True\n",
            "False\n"
          ]
        }
      ],
      "source": [
        "\n",
        " a= 5\n",
        " b=10\n",
        "\n",
        " print(a==b)\n",
        " print(a != b)\n",
        " print(a < b)\n",
        " print(a > b)\n",
        " print(a <= b)\n",
        " print(a >= b)\n"
      ]
    },
    {
      "cell_type": "code",
      "execution_count": 23,
      "metadata": {
        "colab": {
          "base_uri": "https://localhost:8080/"
        },
        "id": "ewB0FEe7_3qj",
        "outputId": "5b251fd9-cdd2-44f5-fdf8-b0cce470600b"
      },
      "outputs": [
        {
          "name": "stdout",
          "output_type": "stream",
          "text": [
            "False\n"
          ]
        }
      ],
      "source": [
        "a = 10\n",
        "print ( a>20 and a>5) # if bothe the condiction is true it will give true or else\n",
        "# only one or ether false it give false\n",
        "\n"
      ]
    },
    {
      "cell_type": "code",
      "execution_count": 25,
      "metadata": {
        "colab": {
          "base_uri": "https://localhost:8080/"
        },
        "id": "MjUxERNm_3m-",
        "outputId": "07193a59-6a34-40f7-9b9a-a5ccaa1e1610"
      },
      "outputs": [
        {
          "name": "stdout",
          "output_type": "stream",
          "text": [
            "True\n"
          ]
        }
      ],
      "source": [
        "print ( a>20 or a>5) # it will give true either one is correct"
      ]
    },
    {
      "cell_type": "code",
      "execution_count": 27,
      "metadata": {
        "colab": {
          "base_uri": "https://localhost:8080/"
        },
        "id": "SVqMOjEGBPcl",
        "outputId": "9c0edebc-1192-4ab7-ad79-f88741baee08"
      },
      "outputs": [
        {
          "name": "stdout",
          "output_type": "stream",
          "text": [
            "False\n"
          ]
        }
      ],
      "source": [
        "print (not( a>8 or a>5)) # rever or invert the out put"
      ]
    },
    {
      "cell_type": "code",
      "execution_count": null,
      "metadata": {
        "id": "YSZs-wez_3ld"
      },
      "outputs": [],
      "source": []
    },
    {
      "cell_type": "markdown",
      "metadata": {
        "id": "S0Yiw534B_k3"
      },
      "source": [
        "identity operator"
      ]
    },
    {
      "cell_type": "code",
      "execution_count": 29,
      "metadata": {
        "colab": {
          "base_uri": "https://localhost:8080/"
        },
        "id": "W4BMiXGuBPhQ",
        "outputId": "b7d65626-d3a3-44d9-8813-58b490a4238c"
      },
      "outputs": [
        {
          "name": "stdout",
          "output_type": "stream",
          "text": [
            "False\n"
          ]
        }
      ],
      "source": [
        "x = 5\n",
        "y = 10\n",
        "print( x is y)"
      ]
    },
    {
      "cell_type": "code",
      "execution_count": 30,
      "metadata": {
        "colab": {
          "base_uri": "https://localhost:8080/"
        },
        "id": "LyIRZ_KG_3i2",
        "outputId": "698a6a08-bdc1-4af7-b4a1-f825e0e25c69"
      },
      "outputs": [
        {
          "name": "stdout",
          "output_type": "stream",
          "text": [
            "True\n"
          ]
        }
      ],
      "source": [
        "x = 5\n",
        "y = 5\n",
        "print( x is y)"
      ]
    },
    {
      "cell_type": "code",
      "execution_count": 31,
      "metadata": {
        "colab": {
          "base_uri": "https://localhost:8080/"
        },
        "id": "9BehWxENBPnh",
        "outputId": "d4f90bf4-f5c4-495e-d640-8d1c92d4bc72"
      },
      "outputs": [
        {
          "name": "stdout",
          "output_type": "stream",
          "text": [
            "True\n"
          ]
        }
      ],
      "source": [
        "x = 5\n",
        "y = 10\n",
        "print( x is not y)"
      ]
    },
    {
      "cell_type": "code",
      "execution_count": 32,
      "metadata": {
        "colab": {
          "base_uri": "https://localhost:8080/"
        },
        "id": "dj8WhW21CRRP",
        "outputId": "48d1d22a-9b7e-4e2b-9117-0d994f40b5a2"
      },
      "outputs": [
        {
          "name": "stdout",
          "output_type": "stream",
          "text": [
            "False\n"
          ]
        }
      ],
      "source": [
        "x = 5\n",
        "y = 5\n",
        "print( x is not y)"
      ]
    },
    {
      "cell_type": "code",
      "execution_count": null,
      "metadata": {
        "id": "ZcmDFxU8CRN0"
      },
      "outputs": [],
      "source": []
    },
    {
      "cell_type": "code",
      "execution_count": 33,
      "metadata": {
        "id": "dTefs4cDCjXR"
      },
      "outputs": [],
      "source": [
        "# membership operator"
      ]
    },
    {
      "cell_type": "code",
      "execution_count": 40,
      "metadata": {
        "colab": {
          "base_uri": "https://localhost:8080/"
        },
        "id": "CDn7_XtQCRLS",
        "outputId": "207a764c-7100-4a2a-865d-6cb2199b63cf"
      },
      "outputs": [
        {
          "name": "stdout",
          "output_type": "stream",
          "text": [
            "True\n",
            "False\n"
          ]
        }
      ],
      "source": [
        "x = 5\n",
        "y = 100\n",
        "\n",
        "c =[5,10,2,4,8,]\n",
        "print(x in c)\n",
        "print(y in c)\n"
      ]
    },
    {
      "cell_type": "code",
      "execution_count": 41,
      "metadata": {
        "colab": {
          "base_uri": "https://localhost:8080/"
        },
        "id": "2DVivO94CRJN",
        "outputId": "5fed1af8-a971-46d1-fa89-a9c3fac2e501"
      },
      "outputs": [
        {
          "name": "stdout",
          "output_type": "stream",
          "text": [
            "False\n",
            "True\n"
          ]
        }
      ],
      "source": [
        "x = 5\n",
        "y = 100\n",
        "\n",
        "c =[5,10,2,4,8,]\n",
        "print(x not in c)\n",
        "print(y not in c) # opposite to in \n"
      ]
    },
    {
      "cell_type": "code",
      "execution_count": null,
      "metadata": {
        "id": "44_u2EdCCRG4"
      },
      "outputs": [],
      "source": []
    },
    {
      "cell_type": "code",
      "execution_count": null,
      "metadata": {
        "id": "P28hlM52CREy"
      },
      "outputs": [],
      "source": []
    },
    {
      "cell_type": "code",
      "execution_count": null,
      "metadata": {
        "id": "J3DMVf3VCRCO"
      },
      "outputs": [],
      "source": []
    },
    {
      "cell_type": "code",
      "execution_count": null,
      "metadata": {
        "id": "Pg8V2O7fCQ_3"
      },
      "outputs": [],
      "source": []
    },
    {
      "cell_type": "code",
      "execution_count": null,
      "metadata": {
        "id": "3mMbJIBU9xX2"
      },
      "outputs": [],
      "source": []
    },
    {
      "cell_type": "code",
      "execution_count": null,
      "metadata": {
        "id": "xocNy4yt9xVo"
      },
      "outputs": [],
      "source": []
    },
    {
      "cell_type": "code",
      "execution_count": null,
      "metadata": {
        "id": "RN6px75o9xT0"
      },
      "outputs": [],
      "source": []
    },
    {
      "cell_type": "code",
      "execution_count": null,
      "metadata": {
        "id": "G9nOSCnv9xRQ"
      },
      "outputs": [],
      "source": []
    }
  ],
  "metadata": {
    "colab": {
      "provenance": []
    },
    "kernelspec": {
      "display_name": "Python 3",
      "language": "python",
      "name": "python3"
    },
    "language_info": {
      "name": "python",
      "version": "3.11.0 (main, Oct 24 2022, 18:26:48) [MSC v.1933 64 bit (AMD64)]"
    },
    "vscode": {
      "interpreter": {
        "hash": "f4a1bfae62880f6cb447e765afab1bd625c712943ceb09ad5ec6b36f28c4f1e6"
      }
    }
  },
  "nbformat": 4,
  "nbformat_minor": 0
}
